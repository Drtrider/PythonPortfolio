{
 "cells": [
  {
   "cell_type": "markdown",
   "metadata": {},
   "source": [
    "# Creating a dataframe of players"
   ]
  },
  {
   "cell_type": "code",
   "execution_count": 2,
   "metadata": {},
   "outputs": [],
   "source": [
    "# Setup stuff\n",
    "import json\n",
    "import pandas as pd\n"
   ]
  },
  {
   "cell_type": "code",
   "execution_count": 3,
   "metadata": {},
   "outputs": [],
   "source": [
    "def create_df_of_players(path_to_player_list):\n",
    "    \"\"\"Returns a dataframe of players, if given a roster.json\"\"\"\n",
    "\n",
    "    # Load the JSON data from a file\n",
    "    with open(path_to_player_list) as f:\n",
    "        data = json.load(f)\n",
    "\n",
    "    # Create the dataframe\n",
    "    df_players = pd.json_normalize(data)\n",
    "\n",
    "    return df_players"
   ]
  },
  {
   "cell_type": "code",
   "execution_count": 4,
   "metadata": {},
   "outputs": [],
   "source": [
    "path_to_player_list = r\"E:\\Documents\\Repos\\PythonPortfolio-1\\NFL_Thing\\data\\roster.json\"\n",
    "\n",
    "df_players = create_df_of_players(path_to_player_list)"
   ]
  },
  {
   "cell_type": "code",
   "execution_count": 5,
   "metadata": {},
   "outputs": [
    {
     "data": {
      "text/html": [
       "<div>\n",
       "<style scoped>\n",
       "    .dataframe tbody tr th:only-of-type {\n",
       "        vertical-align: middle;\n",
       "    }\n",
       "\n",
       "    .dataframe tbody tr th {\n",
       "        vertical-align: top;\n",
       "    }\n",
       "\n",
       "    .dataframe thead th {\n",
       "        text-align: right;\n",
       "    }\n",
       "</style>\n",
       "<table border=\"1\" class=\"dataframe\">\n",
       "  <thead>\n",
       "    <tr style=\"text-align: right;\">\n",
       "      <th></th>\n",
       "      <th>id</th>\n",
       "      <th>team</th>\n",
       "      <th>position</th>\n",
       "      <th>fullName</th>\n",
       "    </tr>\n",
       "  </thead>\n",
       "  <tbody>\n",
       "    <tr>\n",
       "      <th>0</th>\n",
       "      <td>3915373</td>\n",
       "      <td>ATL</td>\n",
       "      <td>S</td>\n",
       "      <td>Micah Abernathy</td>\n",
       "    </tr>\n",
       "    <tr>\n",
       "      <th>1</th>\n",
       "      <td>4401823</td>\n",
       "      <td>ATL</td>\n",
       "      <td>CB</td>\n",
       "      <td>Dee Alford</td>\n",
       "    </tr>\n",
       "    <tr>\n",
       "      <th>2</th>\n",
       "      <td>4259976</td>\n",
       "      <td>ATL</td>\n",
       "      <td>WR</td>\n",
       "      <td>Josh Ali</td>\n",
       "    </tr>\n",
       "    <tr>\n",
       "      <th>3</th>\n",
       "      <td>4373626</td>\n",
       "      <td>ATL</td>\n",
       "      <td>RB</td>\n",
       "      <td>Tyler Allgeier</td>\n",
       "    </tr>\n",
       "    <tr>\n",
       "      <th>4</th>\n",
       "      <td>4035660</td>\n",
       "      <td>ATL</td>\n",
       "      <td>LB</td>\n",
       "      <td>Bradlee Anae</td>\n",
       "    </tr>\n",
       "    <tr>\n",
       "      <th>5</th>\n",
       "      <td>4247807</td>\n",
       "      <td>ATL</td>\n",
       "      <td>LB</td>\n",
       "      <td>Troy Andersen</td>\n",
       "    </tr>\n",
       "    <tr>\n",
       "      <th>6</th>\n",
       "      <td>3924352</td>\n",
       "      <td>ATL</td>\n",
       "      <td>OT</td>\n",
       "      <td>Zack Bailey</td>\n",
       "    </tr>\n",
       "    <tr>\n",
       "      <th>7</th>\n",
       "      <td>3919512</td>\n",
       "      <td>ATL</td>\n",
       "      <td>S</td>\n",
       "      <td>Jessie Bates III</td>\n",
       "    </tr>\n",
       "    <tr>\n",
       "      <th>8</th>\n",
       "      <td>4568510</td>\n",
       "      <td>ATL</td>\n",
       "      <td>G</td>\n",
       "      <td>Matthew Bergeron</td>\n",
       "    </tr>\n",
       "    <tr>\n",
       "      <th>9</th>\n",
       "      <td>4428872</td>\n",
       "      <td>ATL</td>\n",
       "      <td>LB</td>\n",
       "      <td>JD Bertrand</td>\n",
       "    </tr>\n",
       "  </tbody>\n",
       "</table>\n",
       "</div>"
      ],
      "text/plain": [
       "        id team position          fullName\n",
       "0  3915373  ATL        S   Micah Abernathy\n",
       "1  4401823  ATL       CB        Dee Alford\n",
       "2  4259976  ATL       WR          Josh Ali\n",
       "3  4373626  ATL       RB    Tyler Allgeier\n",
       "4  4035660  ATL       LB      Bradlee Anae\n",
       "5  4247807  ATL       LB     Troy Andersen\n",
       "6  3924352  ATL       OT       Zack Bailey\n",
       "7  3919512  ATL        S  Jessie Bates III\n",
       "8  4568510  ATL        G  Matthew Bergeron\n",
       "9  4428872  ATL       LB       JD Bertrand"
      ]
     },
     "execution_count": 5,
     "metadata": {},
     "output_type": "execute_result"
    }
   ],
   "source": [
    "df_players.head(10)"
   ]
  },
  {
   "cell_type": "code",
   "execution_count": 22,
   "metadata": {},
   "outputs": [
    {
     "name": "stdout",
     "output_type": "stream",
     "text": [
      "           id team position     fullName\n",
      "1660  4361741   SF       QB  Brock Purdy\n"
     ]
    }
   ],
   "source": [
    "players_whos_name_match = df_players[df_players[\"fullName\"].str.contains(\"Purdy\")]\n",
    "print(players_whos_name_match)"
   ]
  }
 ],
 "metadata": {
  "kernelspec": {
   "display_name": ".venv",
   "language": "python",
   "name": "python3"
  },
  "language_info": {
   "codemirror_mode": {
    "name": "ipython",
    "version": 3
   },
   "file_extension": ".py",
   "mimetype": "text/x-python",
   "name": "python",
   "nbconvert_exporter": "python",
   "pygments_lexer": "ipython3",
   "version": "3.12.5"
  }
 },
 "nbformat": 4,
 "nbformat_minor": 2
}
